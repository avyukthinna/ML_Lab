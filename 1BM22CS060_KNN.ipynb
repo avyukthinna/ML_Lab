{
  "nbformat": 4,
  "nbformat_minor": 0,
  "metadata": {
    "colab": {
      "provenance": [],
      "authorship_tag": "ABX9TyOai8FvzLvZgkHq40Xs32qx",
      "include_colab_link": true
    },
    "kernelspec": {
      "name": "python3",
      "display_name": "Python 3"
    },
    "language_info": {
      "name": "python"
    }
  },
  "cells": [
    {
      "cell_type": "markdown",
      "metadata": {
        "id": "view-in-github",
        "colab_type": "text"
      },
      "source": [
        "<a href=\"https://colab.research.google.com/github/avyukthinna/ML_Lab/blob/main/1BM22CS060_KNN.ipynb\" target=\"_parent\"><img src=\"https://colab.research.google.com/assets/colab-badge.svg\" alt=\"Open In Colab\"/></a>"
      ]
    },
    {
      "cell_type": "code",
      "execution_count": null,
      "metadata": {
        "id": "_1UdDC8UnjGj"
      },
      "outputs": [],
      "source": [
        "import csv\n",
        "import random\n",
        "import math\n",
        "import matplotlib.pyplot as plt\n",
        "from collections import Counter\n",
        "\n",
        "# Load dataset\n",
        "def load_dataset(filename):\n",
        "    dataset = []\n",
        "    with open(filename, 'r') as file:\n",
        "        csv_reader = csv.reader(file)\n",
        "        next(csv_reader)  # skip header\n",
        "        for row in csv_reader:\n",
        "            features = list(map(float, row[:-1]))\n",
        "            label = row[-1]\n",
        "            dataset.append(features + [label])\n",
        "    return dataset\n",
        "\n",
        "# Train/test split\n",
        "def train_test_split(dataset, test_ratio=0.2):\n",
        "    random.shuffle(dataset)\n",
        "    split_index = int(len(dataset) * (1 - test_ratio))\n",
        "    return dataset[:split_index], dataset[split_index:]\n",
        "\n",
        "# Euclidean distance\n",
        "def euclidean_distance(p1, p2):\n",
        "    return math.sqrt(sum((p1[i] - p2[i]) ** 2 for i in range(len(p1) - 1)))\n",
        "\n",
        "# KNN predict\n",
        "def knn_predict(train_set, test_point, k=3):\n",
        "    distances = []\n",
        "    for train_point in train_set:\n",
        "        dist = euclidean_distance(test_point, train_point)\n",
        "        distances.append((train_point, dist))\n",
        "    distances.sort(key=lambda x: x[1])\n",
        "    k_labels = [pair[0][-1] for pair in distances[:k]]\n",
        "    return Counter(k_labels).most_common(1)[0][0]\n",
        "\n",
        "# Plot first 2 features\n",
        "def plot_points(train_set, predict_point, predicted_class, k):\n",
        "    colors = ['red', 'blue', 'green', 'purple', 'orange']\n",
        "    label_color = {}\n",
        "    current_color = 0\n",
        "\n",
        "    for point in train_set:\n",
        "        label = point[-1]\n",
        "        if label not in label_color:\n",
        "            label_color[label] = colors[current_color % len(colors)]\n",
        "            current_color += 1\n",
        "        plt.scatter(point[0], point[1], color=label_color[label], marker='o')\n",
        "\n",
        "    # Plot the predicted point\n",
        "    plt.scatter(predict_point[0], predict_point[1], color='black', marker='x', s=100, label=f'Predicted: {predicted_class}')\n",
        "\n",
        "    plt.title(f'KNN Prediction (k={k})')\n",
        "    plt.xlabel('Sepal Length (cm)')\n",
        "    plt.ylabel('Sepal Width (cm)')\n",
        "    plt.grid(True)\n",
        "    plt.legend()\n",
        "    plt.show()\n",
        "\n",
        "# MAIN\n",
        "filename = \"/content/Iris.csv\"  # Replace with your path\n",
        "dataset = load_dataset(filename)\n",
        "train_set, _ = train_test_split(dataset, test_ratio=0.2)\n",
        "\n",
        "k = 3\n",
        "predict_point = [6.7, 3, 5, 1.7, None]  # The point to classify\n",
        "predicted_class = knn_predict(train_set, predict_point, k)\n",
        "\n",
        "print(f\"✅ Predicted Class for [6.7,3,5,1.7]: {predicted_class}\")\n",
        "plot_points(train_set, predict_point, predicted_class, k)"
      ]
    }
  ]
}