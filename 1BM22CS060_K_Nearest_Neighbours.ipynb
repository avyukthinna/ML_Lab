{
  "nbformat": 4,
  "nbformat_minor": 0,
  "metadata": {
    "colab": {
      "provenance": [],
      "authorship_tag": "ABX9TyOJUWVLEx0q5iaki1TKiKNi",
      "include_colab_link": true
    },
    "kernelspec": {
      "name": "python3",
      "display_name": "Python 3"
    },
    "language_info": {
      "name": "python"
    }
  },
  "cells": [
    {
      "cell_type": "markdown",
      "metadata": {
        "id": "view-in-github",
        "colab_type": "text"
      },
      "source": [
        "<a href=\"https://colab.research.google.com/github/avyukthinna/ML_Lab/blob/main/1BM22CS060_K_Nearest_Neighbours.ipynb\" target=\"_parent\"><img src=\"https://colab.research.google.com/assets/colab-badge.svg\" alt=\"Open In Colab\"/></a>"
      ]
    },
    {
      "cell_type": "code",
      "execution_count": null,
      "metadata": {
        "id": "EY9MITSmppq-"
      },
      "outputs": [],
      "source": [
        "#K MEANS CLUSTERING\n",
        "\n",
        "import numpy as np\n",
        "import pandas as pd\n",
        "import matplotlib.pyplot as plt\n",
        "from sklearn.datasets import load_iris\n",
        "from sklearn.preprocessing import StandardScaler\n",
        "\n",
        "# Step 1: Load the Iris dataset\n",
        "iris = load_iris()\n",
        "X = iris.data  # Features (sepal length, sepal width, etc.)\n",
        "\n",
        "# Step 2: Normalize the data (optional but helps in K-Means)\n",
        "scaler = StandardScaler()\n",
        "X_scaled = scaler.fit_transform(X)\n",
        "\n",
        "# Step 3: Define the K-Means function (from scratch)\n",
        "def k_means(X, k, max_iters=100, tol=1e-4):\n",
        "    # Step 3a: Randomly initialize the centroids by picking random points from the data\n",
        "    np.random.seed(42)\n",
        "    centroids = X[np.random.choice(X.shape[0], k, replace=False)]\n",
        "\n",
        "    # Step 3b: Iteratively update the centroids\n",
        "    for _ in range(max_iters):\n",
        "        # Step 3c: Assign each point to the closest centroid\n",
        "        distances = np.linalg.norm(X[:, np.newaxis] - centroids, axis=2)\n",
        "        labels = np.argmin(distances, axis=1)\n",
        "\n",
        "        # Step 3d: Update the centroids (mean of points in each cluster)\n",
        "        new_centroids = np.array([X[labels == i].mean(axis=0) for i in range(k)])\n",
        "\n",
        "        # Step 3e: Check for convergence (if centroids don't change, stop)\n",
        "        if np.all(np.abs(new_centroids - centroids) < tol):\n",
        "            break\n",
        "\n",
        "        centroids = new_centroids\n",
        "\n",
        "    return centroids, labels\n",
        "\n",
        "# Step 4: Apply the K-Means algorithm\n",
        "k = 3  # As there are 3 species in Iris dataset\n",
        "centroids, labels = k_means(X_scaled, k)\n",
        "\n",
        "# Step 5: Visualizing the clusters (using the first two features for simplicity)\n",
        "plt.scatter(X_scaled[:, 0], X_scaled[:, 1], c=labels, cmap='viridis', marker='o')\n",
        "plt.scatter(centroids[:, 0], centroids[:, 1], c='red', s=200, marker='X', label='Centroids')\n",
        "plt.title('K-Means Clustering on Iris Dataset (from Scratch)')\n",
        "plt.xlabel('Sepal Length (scaled)')\n",
        "plt.ylabel('Sepal Width (scaled)')\n",
        "plt.legend()\n",
        "plt.show()\n",
        "\n",
        "# Output Cluster Centers\n",
        "print(\"Cluster Centers:\\n\", centroids)"
      ]
    }
  ]
}