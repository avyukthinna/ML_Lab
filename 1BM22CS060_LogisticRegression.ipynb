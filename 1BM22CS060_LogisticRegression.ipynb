{
  "nbformat": 4,
  "nbformat_minor": 0,
  "metadata": {
    "colab": {
      "provenance": [],
      "authorship_tag": "ABX9TyNS/KUBr51dmGcI+DXcp6Ya",
      "include_colab_link": true
    },
    "kernelspec": {
      "name": "python3",
      "display_name": "Python 3"
    },
    "language_info": {
      "name": "python"
    }
  },
  "cells": [
    {
      "cell_type": "markdown",
      "metadata": {
        "id": "view-in-github",
        "colab_type": "text"
      },
      "source": [
        "<a href=\"https://colab.research.google.com/github/avyukthinna/ML_Lab/blob/main/1BM22CS060_LogisticRegression.ipynb\" target=\"_parent\"><img src=\"https://colab.research.google.com/assets/colab-badge.svg\" alt=\"Open In Colab\"/></a>"
      ]
    },
    {
      "cell_type": "code",
      "execution_count": 3,
      "metadata": {
        "colab": {
          "base_uri": "https://localhost:8080/"
        },
        "id": "4JXHBwRLtyaU",
        "outputId": "cdc5b4a1-4618-4e98-eee5-39432f31346f"
      },
      "outputs": [
        {
          "output_type": "stream",
          "name": "stdout",
          "text": [
            "Predictions:      [0 0 1 1 0 0 1 0 1 0]\n",
            "Actual Labels:    [1 1 1 0 0 0 1 0 1 0]\n",
            "Model Weights:    [-0.25348622  0.09799146]\n",
            "Model Bias:       0.7332581557808024\n"
          ]
        }
      ],
      "source": [
        "import numpy as np\n",
        "\n",
        "# Sigmoid function\n",
        "def sigmoid(z):\n",
        "    return 1 / (1 + np.exp(-z))\n",
        "\n",
        "# Logistic Regression class\n",
        "class LogisticRegression:\n",
        "    def __init__(self, learning_rate=0.01, epochs=1000):\n",
        "        self.lr = learning_rate\n",
        "        self.epochs = epochs\n",
        "        self.w = None\n",
        "        self.b = None\n",
        "\n",
        "    def fit(self, X, y):\n",
        "        n_samples, n_features = X.shape\n",
        "        self.w = np.zeros(n_features)\n",
        "        self.b = 0\n",
        "\n",
        "        for _ in range(self.epochs):\n",
        "            linear_model = np.dot(X, self.w) + self.b\n",
        "            y_predicted = sigmoid(linear_model)\n",
        "\n",
        "            dw = (1 / n_samples) * np.dot(X.T, (y_predicted - y))\n",
        "            db = (1 / n_samples) * np.sum(y_predicted - y)\n",
        "\n",
        "            self.w -= self.lr * dw\n",
        "            self.b -= self.lr * db\n",
        "\n",
        "    def predict(self, X):\n",
        "        linear_model = np.dot(X, self.w) + self.b\n",
        "        y_predicted = sigmoid(linear_model)\n",
        "        return np.array([1 if i >= 0.5 else 0 for i in y_predicted])\n",
        "\n",
        "\n",
        "# ==== YOUR DATASET ====\n",
        "data = [\n",
        "    [25, 55, 1],\n",
        "    [30, 60, 1],\n",
        "    [22, 58, 1],\n",
        "    [35, 85, 0],\n",
        "    [40, 90, 0],\n",
        "    [45, 88, 0],\n",
        "    [25, 60, 1],\n",
        "    [31, 70, 0],\n",
        "    [19, 50, 1],\n",
        "    [40, 80, 0]\n",
        "]\n",
        "\n",
        "# Split features and labels\n",
        "data = np.array(data)\n",
        "X = data[:, :2]  # features: age and score\n",
        "y = data[:, 2]   # labels\n",
        "\n",
        "# Train the model\n",
        "model = LogisticRegression(learning_rate=0.001, epochs=10000)\n",
        "model.fit(X, y)\n",
        "\n",
        "# Predict on training data\n",
        "predictions = model.predict(X)\n",
        "\n",
        "# Output results\n",
        "print(\"Predictions:     \", predictions)\n",
        "print(\"Actual Labels:   \", y.astype(int))\n",
        "print(\"Model Weights:   \", model.w)\n",
        "print(\"Model Bias:      \", model.b)\n"
      ]
    }
  ]
}