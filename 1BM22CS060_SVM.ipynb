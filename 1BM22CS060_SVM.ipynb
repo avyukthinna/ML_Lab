{
  "nbformat": 4,
  "nbformat_minor": 0,
  "metadata": {
    "colab": {
      "provenance": [],
      "authorship_tag": "ABX9TyO2ch1XW7mbOgkprxbbXHy+",
      "include_colab_link": true
    },
    "kernelspec": {
      "name": "python3",
      "display_name": "Python 3"
    },
    "language_info": {
      "name": "python"
    }
  },
  "cells": [
    {
      "cell_type": "markdown",
      "metadata": {
        "id": "view-in-github",
        "colab_type": "text"
      },
      "source": [
        "<a href=\"https://colab.research.google.com/github/avyukthinna/ML_Lab/blob/main/1BM22CS060_SVM.ipynb\" target=\"_parent\"><img src=\"https://colab.research.google.com/assets/colab-badge.svg\" alt=\"Open In Colab\"/></a>"
      ]
    },
    {
      "cell_type": "code",
      "execution_count": null,
      "metadata": {
        "id": "6uzufYeJnxou"
      },
      "outputs": [],
      "source": [
        "import csv\n",
        "import random\n",
        "import matplotlib.pyplot as plt\n",
        "\n",
        "# Load dataset\n",
        "def load_dataset(filename):\n",
        "    dataset = []\n",
        "    with open(filename, 'r') as file:\n",
        "        csv_reader = csv.reader(file)\n",
        "        next(csv_reader)  # skip header\n",
        "        for row in csv_reader:\n",
        "            features = list(map(float, row[1:-1]))  # Assuming format: ID, f1, f2, f3, f4, label\n",
        "            label = 1 if row[-1] == 'Iris-setosa' else -1  # Binary classification\n",
        "            dataset.append(features[:2] + [label])  # Only use first 2 features for plotting\n",
        "    return dataset\n",
        "\n",
        "# Split into training and test\n",
        "def train_test_split(data, test_ratio=0.2):\n",
        "    random.shuffle(data)\n",
        "    split_index = int(len(data) * (1 - test_ratio))\n",
        "    return data[:split_index], data[split_index:]\n",
        "\n",
        "# SVM Training using SGD\n",
        "def train_svm(train_set, learning_rate=0.01, lambda_param=0.01, epochs=1000):\n",
        "    w = [0, 0]\n",
        "    b = 0\n",
        "\n",
        "    for epoch in range(epochs):\n",
        "        for features in train_set:\n",
        "            x = features[:2]\n",
        "            y = features[2]\n",
        "\n",
        "            condition = y * (dot_product(w, x) + b) >= 1\n",
        "            if condition:\n",
        "                w = [w[i] - learning_rate * (2 * lambda_param * w[i]) for i in range(len(w))]\n",
        "            else:\n",
        "                w = [w[i] - learning_rate * (2 * lambda_param * w[i] - y * x[i]) for i in range(len(w))]\n",
        "                b = b + learning_rate * y\n",
        "    return w, b\n",
        "\n",
        "def dot_product(a, b):\n",
        "    return sum([a[i] * b[i] for i in range(len(a))])\n",
        "\n",
        "# Prediction\n",
        "def predict(x, w, b):\n",
        "    return 1 if dot_product(w, x) + b >= 0 else -1\n",
        "\n",
        "# Plotting\n",
        "def plot_svm(train_set, w, b):\n",
        "    for point in train_set:\n",
        "        x1, x2, label = point\n",
        "        color = 'blue' if label == 1 else 'red'\n",
        "        plt.scatter(x1, x2, c=color)\n",
        "\n",
        "    # Decision boundary\n",
        "    x_vals = [min(p[0] for p in train_set), max(p[0] for p in train_set)]\n",
        "    y_vals = [(-w[0] * x - b) / w[1] for x in x_vals]\n",
        "    plt.plot(x_vals, y_vals, '--k', label='Decision Boundary')\n",
        "\n",
        "    plt.xlabel(\"Sepal Length\")\n",
        "    plt.ylabel(\"Sepal Width\")\n",
        "    plt.title(\"Linear SVM Classifier\")\n",
        "    plt.grid(True)\n",
        "    plt.legend()\n",
        "    plt.show()\n",
        "\n",
        "# MAIN\n",
        "filename = \"/content/Iris.csv\"  # Replace with your actual file path\n",
        "dataset = load_dataset(filename)\n",
        "train_set, test_set = train_test_split(dataset)\n",
        "\n",
        "w, b = train_svm(train_set)\n",
        "plot_svm(train_set, w, b)\n",
        "\n",
        "# Testing\n",
        "for point in test_set:\n",
        "    x = point[:2]\n",
        "    actual = point[2]\n",
        "    pred = predict(x, w, b)\n",
        "    print(f\"Actual: {actual:<2}  Predicted: {pred}\")\n"
      ]
    }
  ]
}