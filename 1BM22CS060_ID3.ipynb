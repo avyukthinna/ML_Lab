{
  "nbformat": 4,
  "nbformat_minor": 0,
  "metadata": {
    "colab": {
      "provenance": [],
      "authorship_tag": "ABX9TyMVmKF5NxvuXRCQQAAPOdai",
      "include_colab_link": true
    },
    "kernelspec": {
      "name": "python3",
      "display_name": "Python 3"
    },
    "language_info": {
      "name": "python"
    }
  },
  "cells": [
    {
      "cell_type": "markdown",
      "metadata": {
        "id": "view-in-github",
        "colab_type": "text"
      },
      "source": [
        "<a href=\"https://colab.research.google.com/github/avyukthinna/ML_Lab/blob/main/1BM22CS060_ID3.ipynb\" target=\"_parent\"><img src=\"https://colab.research.google.com/assets/colab-badge.svg\" alt=\"Open In Colab\"/></a>"
      ]
    },
    {
      "cell_type": "code",
      "execution_count": 1,
      "metadata": {
        "id": "-zCBuIiCnHWO",
        "outputId": "128483d6-34c9-4ce4-aaf1-ab183af62606",
        "colab": {
          "base_uri": "https://localhost:8080/"
        }
      },
      "outputs": [
        {
          "output_type": "stream",
          "name": "stdout",
          "text": [
            "Decision Tree:\n",
            "{'Weather': {'Overcast': 'Yes',\n",
            "             'Rainy': {'Wind': {'Strong': 'No', 'Weak': 'Yes'}},\n",
            "             'Sunny': {'Humidity': {'High': 'No', 'Normal': 'Yes'}}}}\n",
            "\n",
            "Prediction for sample {'Weather': 'Sunny', 'Temperature': 'Cool', 'Humidity': 'High', 'Wind': 'Strong'}: No\n"
          ]
        }
      ],
      "source": [
        "import math\n",
        "import pandas as pd\n",
        "\n",
        "data = [\n",
        "    ['Sunny', 'Hot', 'High', 'Weak', 'No'],\n",
        "    ['Sunny', 'Hot', 'High', 'Strong', 'No'],\n",
        "    ['Overcast', 'Hot', 'High', 'Weak', 'Yes'],\n",
        "    ['Rainy', 'Mild', 'High', 'Weak', 'Yes'],\n",
        "    ['Rainy', 'Cool', 'Normal', 'Weak', 'Yes'],\n",
        "    ['Rainy', 'Cool', 'Normal', 'Strong', 'No'],\n",
        "    ['Overcast', 'Cool', 'Normal', 'Strong', 'Yes'],\n",
        "    ['Sunny', 'Mild', 'High', 'Weak', 'No'],\n",
        "    ['Sunny', 'Cool', 'Normal', 'Weak', 'Yes'],\n",
        "    ['Rainy', 'Mild', 'Normal', 'Weak', 'Yes'],\n",
        "    ['Sunny', 'Mild', 'Normal', 'Strong', 'Yes'],\n",
        "    ['Overcast', 'Mild', 'High', 'Strong', 'Yes'],\n",
        "    ['Overcast', 'Hot', 'Normal', 'Weak', 'Yes'],\n",
        "    ['Rainy', 'Mild', 'High', 'Strong', 'No']\n",
        "]\n",
        "\n",
        "columns = ['Weather', 'Temperature', 'Humidity', 'Wind', 'Going to Gold']\n",
        "\n",
        "df = pd.DataFrame(data, columns=columns)\n",
        "\n",
        "\n",
        "def calculate_entropy(df, target_col):\n",
        "    target_values = df[target_col].value_counts()\n",
        "    entropy = 0\n",
        "    for value in target_values:\n",
        "        p = value / len(df)\n",
        "        entropy -= p * math.log2(p)\n",
        "    return entropy\n",
        "\n",
        "\n",
        "def calculate_information_gain(df, feature, target_col):\n",
        "    total_entropy = calculate_entropy(df, target_col)\n",
        "    feature_values = df[feature].value_counts().to_dict()\n",
        "\n",
        "    weighted_entropy = 0\n",
        "    for value, count in feature_values.items():\n",
        "        subset = df[df[feature] == value]\n",
        "        subset_entropy = calculate_entropy(subset, target_col)\n",
        "        weighted_entropy += (count / len(df)) * subset_entropy\n",
        "\n",
        "    information_gain = total_entropy - weighted_entropy\n",
        "    return information_gain\n",
        "\n",
        "\n",
        "def find_best_feature(df, target_col):\n",
        "    features = df.columns[:-1]\n",
        "    best_feature = None\n",
        "    max_info_gain = -1\n",
        "\n",
        "    for feature in features:\n",
        "        info_gain = calculate_information_gain(df, feature, target_col)\n",
        "        if info_gain > max_info_gain:\n",
        "            max_info_gain = info_gain\n",
        "            best_feature = feature\n",
        "\n",
        "    return best_feature\n",
        "\n",
        "\n",
        "def id3(df, target_col):\n",
        "    if len(df[target_col].unique()) == 1:\n",
        "        return df[target_col].iloc[0]\n",
        "\n",
        "    if len(df.columns) == 1:\n",
        "        return df[target_col].mode().iloc[0]\n",
        "\n",
        "    best_feature = find_best_feature(df, target_col)\n",
        "    tree = {best_feature: {}}\n",
        "\n",
        "    feature_values = df[best_feature].unique()\n",
        "    for value in feature_values:\n",
        "        subset = df[df[best_feature] == value].drop(columns=[best_feature])\n",
        "        subtree = id3(subset, target_col)\n",
        "        tree[best_feature][value] = subtree\n",
        "\n",
        "    return tree\n",
        "\n",
        "\n",
        "decision_tree = id3(df, 'Going to Gold')\n",
        "\n",
        "def predict(tree, sample):\n",
        "    if not isinstance(tree, dict):\n",
        "        return tree\n",
        "    feature = next(iter(tree))\n",
        "    value = sample[feature]\n",
        "    if value in tree[feature]:\n",
        "        return predict(tree[feature][value], sample)\n",
        "    else:\n",
        "        return \"Unknown\"\n",
        "\n",
        "import pprint\n",
        "print(\"Decision Tree:\")\n",
        "pprint.pprint(decision_tree)\n",
        "\n",
        "sample = {'Weather': 'Sunny', 'Temperature': 'Cool', 'Humidity': 'High', 'Wind': 'Strong'}\n",
        "prediction = predict(decision_tree, sample)\n",
        "print(f\"\\nPrediction for sample {sample}: {prediction}\")\n",
        "\n"
      ]
    }
  ]
}